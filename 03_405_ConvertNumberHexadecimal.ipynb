{
 "cells": [
  {
   "attachments": {},
   "cell_type": "markdown",
   "metadata": {},
   "source": [
    "Given an integer num, return a string representing its hexadecimal representation. For negative integers, two’s complement method is used.\n",
    "\n",
    "All the letters in the answer string should be lowercase characters, and there should not be any leading zeros in the answer except for the zero itself.\n",
    "\n",
    "Note: You are not allowed to use any built-in library method to directly solve this problem."
   ]
  },
  {
   "cell_type": "code",
   "execution_count": 4,
   "metadata": {},
   "outputs": [
    {
     "name": "stdout",
     "output_type": "stream",
     "text": [
      "ffffffff\n"
     ]
    }
   ],
   "source": [
    "def toHex(num: int) -> str:\n",
    "    # Step 0: If the number is 0 we just stop the program.\n",
    "    \n",
    "    if num == 0:\n",
    "        return 0\n",
    "\n",
    "    # Step 1: Calculate the absolute value of the input.\n",
    "    \n",
    "    # Step 2: If the input is negative then add 2^32 to the input number.\n",
    "    \n",
    "    if num < 0:\n",
    "        num = (1 << 32) + num\n",
    "    num_abs = abs(num)\n",
    "    # Step 3: Lets define the string wich will contain the hexadigits:\n",
    "    \n",
    "    HEX_STRING = '0123456789abcdef'\n",
    "    \n",
    "    dividendo = num_abs\n",
    "    divisor = 16\n",
    "    restos = []\n",
    "    \n",
    "    while dividendo > 0:\n",
    "        resto = dividendo % divisor\n",
    "        cociente_entero = dividendo // divisor\n",
    "        restos.append(HEX_STRING[int(resto)])\n",
    "        dividendo = cociente_entero\n",
    "    hex_num = ''.join(restos)\n",
    "    hex_num = hex_num[::-1]\n",
    "    \n",
    "    return hex_num\n",
    "    \n",
    " \n",
    "def main():\n",
    "    num = -1\n",
    "    result = toHex(num)\n",
    "    print(result)\n",
    "\n",
    "    \n",
    "\n",
    "if __name__ == '__main__':\n",
    "    main()\n",
    "    \n",
    "\n",
    "\n"
   ]
  },
  {
   "cell_type": "code",
   "execution_count": null,
   "metadata": {},
   "outputs": [],
   "source": []
  }
 ],
 "metadata": {
  "kernelspec": {
   "display_name": "django",
   "language": "python",
   "name": "python3"
  },
  "language_info": {
   "codemirror_mode": {
    "name": "ipython",
    "version": 3
   },
   "file_extension": ".py",
   "mimetype": "text/x-python",
   "name": "python",
   "nbconvert_exporter": "python",
   "pygments_lexer": "ipython3",
   "version": "3.11.3"
  },
  "orig_nbformat": 4
 },
 "nbformat": 4,
 "nbformat_minor": 2
}
