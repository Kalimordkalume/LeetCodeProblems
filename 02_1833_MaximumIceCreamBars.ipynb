{
 "cells": [
  {
   "attachments": {},
   "cell_type": "markdown",
   "metadata": {},
   "source": [
    "Exercise 1833:\n",
    "\n",
    "It is a sweltering summer day, and a boy wants to buy some ice cream bars.\n",
    "\n",
    "At the store, there are n ice cream bars. You are given an array costs of length n, where costs[i] is the price of the ith ice cream bar in coins. The boy initially has coins coins to spend, and he wants to buy as many ice cream bars as possible. \n",
    "\n",
    "Note: The boy can buy the ice cream bars in any order.\n",
    "\n",
    "Return the maximum number of ice cream bars the boy can buy with coins coins.\n",
    "\n",
    "You must solve the problem by counting sort."
   ]
  },
  {
   "attachments": {},
   "cell_type": "markdown",
   "metadata": {},
   "source": [
    "Example 1:\n",
    "Input: costs = [1,3,2,4,1], coins = 7\n",
    "Output: 4\n",
    "Explanation: The boy can buy ice cream bars at indices 0,1,2,4 for a total price of 1 + 3 + 2 + 1 = 7."
   ]
  },
  {
   "attachments": {},
   "cell_type": "markdown",
   "metadata": {},
   "source": [
    "Example 2:\n",
    "Input: costs = [10,6,8,7,7,8], coins = 5\n",
    "Output: 0\n",
    "Explanation: The boy cannot afford any of the ice cream bars."
   ]
  },
  {
   "attachments": {},
   "cell_type": "markdown",
   "metadata": {},
   "source": [
    "Example 3:\n",
    "\n",
    "Input: costs = [1,6,3,1,2,5], coins = 20\n",
    "Output: 6\n",
    "Explanation: The boy can buy all the ice cream bars for a total price of 1 + 6 + 3 + 1 + 2 + 5 = 18."
   ]
  },
  {
   "cell_type": "code",
   "execution_count": 4,
   "metadata": {},
   "outputs": [
    {
     "name": "stdout",
     "output_type": "stream",
     "text": [
      "([1, 2, 2, 4, 5], 3)\n"
     ]
    }
   ],
   "source": [
    "\n",
    "def maximumOfIceCreams(costs, coins):\n",
    "    number_of_ice_creams = 0\n",
    "    \n",
    "    # Ordenamos la lista costs.\n",
    "    costs = sorted(costs)\n",
    "    # Iteramos sobre la nueva lista, con las condiciones de las monedas:\n",
    "    \n",
    "    for i in costs:\n",
    "        if i <= coins:\n",
    "            number_of_ice_creams += 1\n",
    "            coins -= i\n",
    "    \n",
    "    \n",
    "    \n",
    "    \n",
    "    return costs, number_of_ice_creams\n",
    "\n",
    "\n",
    "\n",
    "def main():\n",
    "    print(maximumOfIceCreams([4,2,5,1,2,],5))\n",
    "    \n",
    "\n",
    "\n",
    "if __name__ == '__main__':\n",
    "    main()"
   ]
  }
 ],
 "metadata": {
  "kernelspec": {
   "display_name": "django",
   "language": "python",
   "name": "python3"
  },
  "language_info": {
   "codemirror_mode": {
    "name": "ipython",
    "version": 3
   },
   "file_extension": ".py",
   "mimetype": "text/x-python",
   "name": "python",
   "nbconvert_exporter": "python",
   "pygments_lexer": "ipython3",
   "version": "3.11.3"
  },
  "orig_nbformat": 4
 },
 "nbformat": 4,
 "nbformat_minor": 2
}
