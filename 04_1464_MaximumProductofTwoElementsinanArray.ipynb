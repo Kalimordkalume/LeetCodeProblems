{
 "cells": [
  {
   "cell_type": "code",
   "execution_count": 27,
   "metadata": {},
   "outputs": [
    {
     "name": "stdout",
     "output_type": "stream",
     "text": [
      "12\n"
     ]
    }
   ],
   "source": [
    "from typing import List\n",
    "\n",
    "\n",
    "def maxProduct(nums: List[int]) -> int:\n",
    "    \n",
    "    ordered = sorted(nums)\n",
    "    last = len(nums) - 1\n",
    "    pre_last = last - 1\n",
    "    result = (ordered[last] - 1)*(ordered[pre_last] - 1)\n",
    "    \n",
    "    return result\n",
    "\n",
    "    \n",
    "    \n",
    "        \n",
    "        \n",
    "    \n",
    "def main():\n",
    "    nums = [3,4,5,2]\n",
    "    \n",
    "    resultado = maxProduct(nums)\n",
    "    \n",
    "    print(resultado)\n",
    "\n",
    "\n",
    "\n",
    "if __name__ == '__main__':\n",
    "    main()\n",
    "        "
   ]
  }
 ],
 "metadata": {
  "kernelspec": {
   "display_name": "d_anal",
   "language": "python",
   "name": "python3"
  },
  "language_info": {
   "codemirror_mode": {
    "name": "ipython",
    "version": 3
   },
   "file_extension": ".py",
   "mimetype": "text/x-python",
   "name": "python",
   "nbconvert_exporter": "python",
   "pygments_lexer": "ipython3",
   "version": "3.11.3"
  },
  "orig_nbformat": 4
 },
 "nbformat": 4,
 "nbformat_minor": 2
}
